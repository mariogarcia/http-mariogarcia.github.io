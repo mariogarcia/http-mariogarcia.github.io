{
 "cells": [
  {
   "cell_type": "markdown",
   "metadata": {},
   "source": [
    "# Bike accident analysis in Madrid city (2018-2020)\n",
    "\n",
    "Following the Coursera course I'm in I wanted to practice with some real data out there. What best to get some insights about the city I live in ? Nowadays I normally ride my bike several days a week through the city and I was curious about the bike accidents in the city. Here are the source datasets I'm using during this analysis.\n",
    "\n",
    "- [Source Madrid Open Data](https://datos.madrid.es/portal/site/egob/menuitem.c05c1f754a33a9fbe4b2e4b284f1a5a0/?vgnextoid=7c2843010d9c3610VgnVCM2000001f4a900aRCRD&vgnextchannel=374512b9ace9f310VgnVCM100000171f5a0aRCRD&vgnextfmt=default) \n",
    "- From the available datasets I'm using the years 2018, 2019, and 2020 (until August which is the last available dataset at the time of writing). \n",
    "\n",
    "I've realized that conducting an analysis using a Jupyter Notebook is great not only because is one of the best tools for statistical analysis but also because I can export the notebook to asciidoc which I can convert easily to asciidoctor and copy/paste it to my blog.\n",
    "\n",
    "Before doing any kind of analysis we need to look the data and see if we should clean it up a little bit."
   ]
  },
  {
   "cell_type": "markdown",
   "metadata": {},
   "source": [
    "## 2018 Dataset\n",
    "\n",
    "Datasets before 2018 have a different formatting that datasets from 2019 and ahead. Therefore I need to make them match the rest of the datasets I'm merging it with."
   ]
  },
  {
   "cell_type": "code",
   "execution_count": 1,
   "metadata": {},
   "outputs": [],
   "source": [
    "import pandas as pd\n",
    "\n",
    "def get_first_hour(hour_range_str):\n",
    "    import re\n",
    "    m = re.search('DE (.*) A .*', hour_range_str)\n",
    "    return m.group(1)\n",
    "\n",
    "accidents_2018 = pd.read_csv(\"accidents_2018.csv\", delimiter=\";\", skiprows=0, encoding=\"ISO-8859-1\")\n",
    "\n",
    "accidents_2018[\"TIPO VEHÍCULO\"] = accidents_2018[\"Tipo Vehiculo\"]\n",
    "accidents_2018[\"CALLE\"] = accidents_2018[\"LUGAR ACCIDENTE\"]\n",
    "accidents_2018[\"HORA\"] = accidents_2018[\"RANGO HORARIO\"].apply(get_first_hour)"
   ]
  },
  {
   "cell_type": "markdown",
   "metadata": {},
   "source": [
    "## 2019-2020 Datasets\n",
    "\n",
    "Reading 2019 and 2020 CSV files."
   ]
  },
  {
   "cell_type": "code",
   "execution_count": 2,
   "metadata": {},
   "outputs": [],
   "source": [
    "accidents_2020 = pd.read_csv(\"accidents_2020.csv\", delimiter=\";\", skiprows=0, encoding=\"ISO-8859-1\")\n",
    "accidents_2019 = pd.read_csv(\"accidents_2019.csv\", delimiter=\";\", skiprows=0, encoding=\"ISO-8859-1\")"
   ]
  },
  {
   "cell_type": "markdown",
   "metadata": {},
   "source": [
    "## Merging datasets 2018-2020\n",
    "\n",
    "Finally merging all datasets into the dataframe I'll be working with."
   ]
  },
  {
   "cell_type": "code",
   "execution_count": 3,
   "metadata": {},
   "outputs": [],
   "source": [
    "accidents=pd.concat([accidents_2018, accidents_2019, accidents_2020])"
   ]
  },
  {
   "cell_type": "markdown",
   "metadata": {},
   "source": [
    "## Preparing DataFrame to start with the analysis\n",
    "\n",
    "Before starting with the analysis there're a couple of steps required to make the process a little bit easier:\n",
    "\n",
    "- I'm interested only in **a given set of columns**: \"FECHA\", \"HORA\", \"CALLE\", \"DISTRITO\", \"TIPO VEHÍCULO\"."
   ]
  },
  {
   "cell_type": "code",
   "execution_count": 4,
   "metadata": {},
   "outputs": [],
   "source": [
    "columns_to_keep = [\"FECHA\", \"HORA\", \"CALLE\", \"DISTRITO\", \"TIPO VEHÍCULO\"]\n",
    "accidents = accidents[columns_to_keep].dropna()"
   ]
  },
  {
   "cell_type": "markdown",
   "metadata": {},
   "source": [
    "- I'm only interested in **bike accidents**:"
   ]
  },
  {
   "cell_type": "code",
   "execution_count": 5,
   "metadata": {},
   "outputs": [],
   "source": [
    "by_bike = accidents[\"TIPO VEHÍCULO\"].str.startswith(\"Moto\") | \\\n",
    "    accidents[\"TIPO VEHÍCULO\"].str.startswith(\"Ci\") | \\\n",
    "    accidents[\"TIPO VEHÍCULO\"].str.startswith(\"MO\")\n",
    "\n",
    "accidents = accidents[by_bike]\n",
    "accidents.drop(\"TIPO VEHÍCULO\", axis=1, inplace=True)"
   ]
  },
  {
   "cell_type": "markdown",
   "metadata": {},
   "source": [
    "- I need to normalize **street names**:"
   ]
  },
  {
   "cell_type": "code",
   "execution_count": 6,
   "metadata": {},
   "outputs": [],
   "source": [
    "accidents[\"CALLE\"] = accidents[\"CALLE\"].\\\n",
    "    str.replace(\"CALLE DE\", \"\").\\\n",
    "    str.replace(\"CALLE\", \"\").\\\n",
    "    str.replace(\"NUM .*\", \"\").\\\n",
    "    str.replace(\"CALL. \", \"\").\\\n",
    "    str.replace(\" - .*\", \"\").\\\n",
    "    str.strip()"
   ]
  },
  {
   "cell_type": "markdown",
   "metadata": {},
   "source": [
    "- I need to normalize **district names** as well."
   ]
  },
  {
   "cell_type": "code",
   "execution_count": 7,
   "metadata": {},
   "outputs": [],
   "source": [
    "for x, y in [('Á', 'A'), ('Í', 'I')]:\n",
    "    accidents[\"DISTRITO\"] = accidents[\"DISTRITO\"].\\\n",
    "        str.replace(x, y).\\\n",
    "        str.strip()"
   ]
  },
  {
   "cell_type": "markdown",
   "metadata": {},
   "source": [
    "- **Convert string dates** to actual timestamp objects"
   ]
  },
  {
   "cell_type": "code",
   "execution_count": 8,
   "metadata": {},
   "outputs": [],
   "source": [
    "accidents[\"TIMESTAMP\"] = accidents[\"FECHA\"] + \" \" + accidents[\"HORA\"]\n",
    "accidents[\"TIMESTAMP\"] = pd.to_datetime(accidents[\"TIMESTAMP\"], format=\"%d/%m/%Y %H:%M\")"
   ]
  },
  {
   "cell_type": "markdown",
   "metadata": {},
   "source": [
    "- **Sort DataFrame by date** in ascending order"
   ]
  },
  {
   "cell_type": "code",
   "execution_count": 9,
   "metadata": {},
   "outputs": [
    {
     "data": {
      "text/html": [
       "<div>\n",
       "<style scoped>\n",
       "    .dataframe tbody tr th:only-of-type {\n",
       "        vertical-align: middle;\n",
       "    }\n",
       "\n",
       "    .dataframe tbody tr th {\n",
       "        vertical-align: top;\n",
       "    }\n",
       "\n",
       "    .dataframe thead th {\n",
       "        text-align: right;\n",
       "    }\n",
       "</style>\n",
       "<table border=\"1\" class=\"dataframe\">\n",
       "  <thead>\n",
       "    <tr style=\"text-align: right;\">\n",
       "      <th></th>\n",
       "      <th>CALLE</th>\n",
       "      <th>DISTRITO</th>\n",
       "      <th>TIMESTAMP</th>\n",
       "    </tr>\n",
       "  </thead>\n",
       "  <tbody>\n",
       "    <tr>\n",
       "      <th>0</th>\n",
       "      <td>VIA CARPETANA</td>\n",
       "      <td>CARABANCHEL</td>\n",
       "      <td>2018-01-01 21:00:00</td>\n",
       "    </tr>\n",
       "    <tr>\n",
       "      <th>1</th>\n",
       "      <td>LA INFANTA MERCEDES</td>\n",
       "      <td>TETUAN</td>\n",
       "      <td>2018-01-02 12:00:00</td>\n",
       "    </tr>\n",
       "    <tr>\n",
       "      <th>2</th>\n",
       "      <td>LA ARMADA ESPAÑOLA</td>\n",
       "      <td>SALAMANCA</td>\n",
       "      <td>2018-01-02 13:00:00</td>\n",
       "    </tr>\n",
       "    <tr>\n",
       "      <th>3</th>\n",
       "      <td>EUGENIO SALAZAR</td>\n",
       "      <td>CHAMARTIN</td>\n",
       "      <td>2018-01-02 14:00:00</td>\n",
       "    </tr>\n",
       "    <tr>\n",
       "      <th>4</th>\n",
       "      <td>PASEO DE LA CASTELLANA</td>\n",
       "      <td>CHAMBERI</td>\n",
       "      <td>2018-01-02 15:00:00</td>\n",
       "    </tr>\n",
       "  </tbody>\n",
       "</table>\n",
       "</div>"
      ],
      "text/plain": [
       "                    CALLE     DISTRITO           TIMESTAMP\n",
       "0           VIA CARPETANA  CARABANCHEL 2018-01-01 21:00:00\n",
       "1     LA INFANTA MERCEDES       TETUAN 2018-01-02 12:00:00\n",
       "2      LA ARMADA ESPAÑOLA    SALAMANCA 2018-01-02 13:00:00\n",
       "3         EUGENIO SALAZAR    CHAMARTIN 2018-01-02 14:00:00\n",
       "4  PASEO DE LA CASTELLANA     CHAMBERI 2018-01-02 15:00:00"
      ]
     },
     "execution_count": 9,
     "metadata": {},
     "output_type": "execute_result"
    }
   ],
   "source": [
    "accidents = accidents.sort_values(\"TIMESTAMP\")\n",
    "accidents = accidents.reset_index()\n",
    "accidents.drop([\"FECHA\", \"HORA\", \"index\"], axis=1, inplace=True)\n",
    "accidents.head()"
   ]
  },
  {
   "cell_type": "markdown",
   "metadata": {},
   "source": [
    "## Analysis\n",
    "\n",
    "### Accident trend\n",
    "\n",
    "In this first question I'd like to address the following points:\n",
    "\n",
    "- **Answer the question**: Are the number of accidents increasing from 2018 ?  \n",
    "- **Show a line chart** showing the trend"
   ]
  },
  {
   "cell_type": "code",
   "execution_count": 10,
   "metadata": {},
   "outputs": [
    {
     "data": {
      "text/plain": [
       "<matplotlib.axes._subplots.AxesSubplot at 0x7f6d0db98d00>"
      ]
     },
     "execution_count": 10,
     "metadata": {},
     "output_type": "execute_result"
    },
    {
     "data": {
      "image/png": "[encoded data removed]",
      "text/plain": [
       "<Figure size 1080x360 with 1 Axes>"
      ]
     },
     "metadata": {
      "needs_background": "light"
     },
     "output_type": "display_data"
    }
   ],
   "source": [
    "trends = accidents.copy()\n",
    "trends[\"NO\"] = 1\n",
    "trends[\"MONTH\"] = trends[\"TIMESTAMP\"].dt.strftime(\"%m\")\n",
    "trends[\"YEAR\"] = trends[\"TIMESTAMP\"].dt.strftime(\"%Y\")\n",
    "trends = trends.set_index([\"YEAR\", \"MONTH\"])\n",
    "trends = trends.groupby([\"YEAR\", \"MONTH\"]).sum()\n",
    "trends = trends.reset_index()\n",
    "trends[\"DATE\"] = trends[\"YEAR\"] + \"/\" + trends[\"MONTH\"]\n",
    "trends[\"DATE\"] = pd.to_datetime(trends[\"DATE\"], format=\"%Y/%m\")\n",
    "\n",
    "# getting rid of unnecessary columns\n",
    "trends.drop([\"YEAR\", \"MONTH\"], axis=1, inplace=True)\n",
    "\n",
    "# rolling mean\n",
    "trends[\"MEAN\"] = trends[\"NO\"].rolling(6).mean()\n",
    "trends = trends.set_index(\"DATE\")\n",
    "\n",
    "trends.plot.line(figsize=(15,5))"
   ]
  },
  {
   "cell_type": "markdown",
   "metadata": {},
   "source": [
    "- Visually the first thing that sprang to mind was **the huge abism on april 2020** because of the **covid-19 confinement** in Spain. \n",
    "- Despite that important fact, is also true that **the general trend from 2018 was increasing significantly until october 2019**. You can see the rolling mean (in yellow) going up until later 2019.\n",
    "\n",
    "There are **two patterns** worth mentioning:\n",
    "\n",
    "- **A decrease** of accidents at holidays' peaks (August/December)\n",
    "- **An increase** at the end of of holidays (end of August and earlier January)\n",
    "\n",
    "You can see the increase/decrease percentage in the next dataframe."
   ]
  },
  {
   "cell_type": "code",
   "execution_count": 11,
   "metadata": {},
   "outputs": [
    {
     "data": {
      "text/html": [
       "<div>\n",
       "<style scoped>\n",
       "    .dataframe tbody tr th:only-of-type {\n",
       "        vertical-align: middle;\n",
       "    }\n",
       "\n",
       "    .dataframe tbody tr th {\n",
       "        vertical-align: top;\n",
       "    }\n",
       "\n",
       "    .dataframe thead th {\n",
       "        text-align: right;\n",
       "    }\n",
       "</style>\n",
       "<table border=\"1\" class=\"dataframe\">\n",
       "  <thead>\n",
       "    <tr style=\"text-align: right;\">\n",
       "      <th></th>\n",
       "      <th>YEAR</th>\n",
       "      <th>TOTAL</th>\n",
       "      <th>INCREMENT</th>\n",
       "    </tr>\n",
       "  </thead>\n",
       "  <tbody>\n",
       "    <tr>\n",
       "      <th>0</th>\n",
       "      <td>2018</td>\n",
       "      <td>4489</td>\n",
       "      <td>NaN</td>\n",
       "    </tr>\n",
       "    <tr>\n",
       "      <th>1</th>\n",
       "      <td>2019</td>\n",
       "      <td>6885</td>\n",
       "      <td>53.374916</td>\n",
       "    </tr>\n",
       "    <tr>\n",
       "      <th>2</th>\n",
       "      <td>2020</td>\n",
       "      <td>2352</td>\n",
       "      <td>-65.838780</td>\n",
       "    </tr>\n",
       "  </tbody>\n",
       "</table>\n",
       "</div>"
      ],
      "text/plain": [
       "   YEAR  TOTAL  INCREMENT\n",
       "0  2018   4489        NaN\n",
       "1  2019   6885  53.374916\n",
       "2  2020   2352 -65.838780"
      ]
     },
     "execution_count": 11,
     "metadata": {},
     "output_type": "execute_result"
    }
   ],
   "source": [
    "percent = accidents.copy()\n",
    "\n",
    "percent[\"NO\"] = 1\n",
    "percent[\"YEAR\"] = percent[\"TIMESTAMP\"].dt.year\n",
    "percent = percent.groupby(\"YEAR\").aggregate(\"sum\").head()\n",
    "\n",
    "percent = percent.reset_index()\n",
    "percent = percent.rename(columns={\"NO\": \"TOTAL\"}, inplace=False)\n",
    "\n",
    "for i in range(1, len(percent)):\n",
    "    previous = percent.loc[i-1, \"TOTAL\"]\n",
    "    current = percent.loc[i, \"TOTAL\"]\n",
    "    percent.loc[i, \"INCREMENT\"] = ((current - previous) / previous) * 100\n",
    "    \n",
    "percent"
   ]
  },
  {
   "cell_type": "markdown",
   "metadata": {},
   "source": [
    "### Worst districts by number of accidents\n",
    "\n",
    "The worst ten district by number of accidents during these three years were:"
   ]
  },
  {
   "cell_type": "code",
   "execution_count": 12,
   "metadata": {},
   "outputs": [
    {
     "data": {
      "text/html": [
       "<div>\n",
       "<style scoped>\n",
       "    .dataframe tbody tr th:only-of-type {\n",
       "        vertical-align: middle;\n",
       "    }\n",
       "\n",
       "    .dataframe tbody tr th {\n",
       "        vertical-align: top;\n",
       "    }\n",
       "\n",
       "    .dataframe thead th {\n",
       "        text-align: right;\n",
       "    }\n",
       "</style>\n",
       "<table border=\"1\" class=\"dataframe\">\n",
       "  <thead>\n",
       "    <tr style=\"text-align: right;\">\n",
       "      <th></th>\n",
       "      <th>NO</th>\n",
       "    </tr>\n",
       "    <tr>\n",
       "      <th>DISTRITO</th>\n",
       "      <th></th>\n",
       "    </tr>\n",
       "  </thead>\n",
       "  <tbody>\n",
       "    <tr>\n",
       "      <th>SALAMANCA</th>\n",
       "      <td>1517</td>\n",
       "    </tr>\n",
       "    <tr>\n",
       "      <th>CENTRO</th>\n",
       "      <td>1276</td>\n",
       "    </tr>\n",
       "    <tr>\n",
       "      <th>CHAMBERI</th>\n",
       "      <td>1264</td>\n",
       "    </tr>\n",
       "    <tr>\n",
       "      <th>CHAMARTIN</th>\n",
       "      <td>1250</td>\n",
       "    </tr>\n",
       "    <tr>\n",
       "      <th>TETUAN</th>\n",
       "      <td>998</td>\n",
       "    </tr>\n",
       "    <tr>\n",
       "      <th>CIUDAD LINEAL</th>\n",
       "      <td>873</td>\n",
       "    </tr>\n",
       "    <tr>\n",
       "      <th>RETIRO</th>\n",
       "      <td>776</td>\n",
       "    </tr>\n",
       "    <tr>\n",
       "      <th>MONCLOA-ARAVACA</th>\n",
       "      <td>699</td>\n",
       "    </tr>\n",
       "    <tr>\n",
       "      <th>ARGANZUELA</th>\n",
       "      <td>648</td>\n",
       "    </tr>\n",
       "    <tr>\n",
       "      <th>CARABANCHEL</th>\n",
       "      <td>593</td>\n",
       "    </tr>\n",
       "  </tbody>\n",
       "</table>\n",
       "</div>"
      ],
      "text/plain": [
       "                   NO\n",
       "DISTRITO             \n",
       "SALAMANCA        1517\n",
       "CENTRO           1276\n",
       "CHAMBERI         1264\n",
       "CHAMARTIN        1250\n",
       "TETUAN            998\n",
       "CIUDAD LINEAL     873\n",
       "RETIRO            776\n",
       "MONCLOA-ARAVACA   699\n",
       "ARGANZUELA        648\n",
       "CARABANCHEL       593"
      ]
     },
     "execution_count": 12,
     "metadata": {},
     "output_type": "execute_result"
    }
   ],
   "source": [
    "wb = accidents.copy()\n",
    "wb[\"NO\"] = 1\n",
    "wb = wb.\\\n",
    "    groupby(\"DISTRITO\").\\\n",
    "    sum().\\\n",
    "    sort_values(\"NO\", ascending=False)\n",
    "    \n",
    "wb.head(10)"
   ]
  },
  {
   "cell_type": "markdown",
   "metadata": {},
   "source": [
    "### Comparing the wost distrinct vs the best\n",
    "\n",
    "The most dangerous district vs the safest. It turns out the district with **the highest rate of accidents** was the district of **SALAMANCA** whereas **the lowest was VICALVARO**. It makes sense because VICALVARO is outside the city center by far, so traffic density is also very low."
   ]
  },
  {
   "cell_type": "code",
   "execution_count": 13,
   "metadata": {},
   "outputs": [
    {
     "data": {
      "text/html": [
       "<div>\n",
       "<style scoped>\n",
       "    .dataframe tbody tr th:only-of-type {\n",
       "        vertical-align: middle;\n",
       "    }\n",
       "\n",
       "    .dataframe tbody tr th {\n",
       "        vertical-align: top;\n",
       "    }\n",
       "\n",
       "    .dataframe thead th {\n",
       "        text-align: right;\n",
       "    }\n",
       "</style>\n",
       "<table border=\"1\" class=\"dataframe\">\n",
       "  <thead>\n",
       "    <tr style=\"text-align: right;\">\n",
       "      <th></th>\n",
       "      <th>NO</th>\n",
       "    </tr>\n",
       "    <tr>\n",
       "      <th>DISTRITO</th>\n",
       "      <th></th>\n",
       "    </tr>\n",
       "  </thead>\n",
       "  <tbody>\n",
       "    <tr>\n",
       "      <th>SALAMANCA</th>\n",
       "      <td>1517</td>\n",
       "    </tr>\n",
       "    <tr>\n",
       "      <th>VICALVARO</th>\n",
       "      <td>117</td>\n",
       "    </tr>\n",
       "  </tbody>\n",
       "</table>\n",
       "</div>"
      ],
      "text/plain": [
       "             NO\n",
       "DISTRITO       \n",
       "SALAMANCA  1517\n",
       "VICALVARO   117"
      ]
     },
     "execution_count": 13,
     "metadata": {},
     "output_type": "execute_result"
    }
   ],
   "source": [
    "wb = wb.iloc[[0, -1]]\n",
    "wb"
   ]
  },
  {
   "cell_type": "markdown",
   "metadata": {},
   "source": [
    "### When is the best/worst hours to ride in general ? \n",
    "\n",
    "Apart from the districts it would be nice to know which are the best/worst moment to get out there with your bike. Although we will see how rush hours are in general a bad moment to go, it seems that **the worst hour to ride in general is 14h**, is when most accidents occur. On the other hand, **the hour with less number of accidents is 4h**, which makes sense because at that hour at night you don't see a soul on the road."
   ]
  },
  {
   "cell_type": "code",
   "execution_count": 14,
   "metadata": {},
   "outputs": [
    {
     "name": "stdout",
     "output_type": "stream",
     "text": [
      "Best \t==> 4h  (60 accidents)\n",
      "Worst \t==> 14h (1060 accidents)\n"
     ]
    }
   ],
   "source": [
    "hs = accidents.copy()\n",
    "\n",
    "hs[\"HOUR\"] = hs[\"TIMESTAMP\"].dt.hour\n",
    "hs[\"DAY\"] = hs[\"TIMESTAMP\"].dt.dayofweek\n",
    "\n",
    "hs = hs.\\\n",
    "    groupby([\"DAY\", \"HOUR\"]).\\\n",
    "    size().\\\n",
    "    reset_index(name=\"COUNT\").\\\n",
    "    set_index(\"DAY\")\n",
    "\n",
    "all_week = pd.DataFrame(hs.reset_index().groupby(\"HOUR\")[\"COUNT\"].sum())\n",
    "values = all_week.sort_values(\"COUNT\")\n",
    "\n",
    "worst = values.iloc[-1]\n",
    "best  = values.iloc[0]\n",
    "\n",
    "w_hour, w_no, b_hour, b_no = [worst.name, worst[\"COUNT\"], best.name, best[\"COUNT\"]]\n",
    "\n",
    "message = \"Best \\t==> {}h  ({} accidents)\\nWorst \\t==> {}h ({} accidents)\".format(b_hour, b_no, w_hour, w_no)\n",
    "print(message)"
   ]
  },
  {
   "cell_type": "markdown",
   "metadata": {},
   "source": [
    "### Analysis of hours during the week\n",
    "\n",
    "I'd to see visually how accidents are arrange on a working day. In order to achieve that I'm creating a bar chart with the aggregated number of accidents from Monday to Friday by hour."
   ]
  },
  {
   "cell_type": "code",
   "execution_count": 15,
   "metadata": {},
   "outputs": [
    {
     "data": {
      "text/plain": [
       "<matplotlib.axes._subplots.AxesSubplot at 0x7f6d0da583a0>"
      ]
     },
     "execution_count": 15,
     "metadata": {},
     "output_type": "execute_result"
    },
    {
     "data": {
      "image/png": "[encoded data removed]",
      "text/plain": [
       "<Figure size 1080x360 with 1 Axes>"
      ]
     },
     "metadata": {
      "needs_background": "light"
     },
     "output_type": "display_data"
    }
   ],
   "source": [
    "week = hs.loc[0:5]\n",
    "week = pd.DataFrame(week.reset_index().groupby(\"HOUR\")[\"COUNT\"].sum())\n",
    "\n",
    "week.plot.bar(y=\"COUNT\", figsize=(15,5))"
   ]
  },
  {
   "cell_type": "markdown",
   "metadata": {},
   "source": [
    "### Analysis of hours during the weekend\n",
    "\n",
    "As a biker, it's even more important to me to analyse when is the best moment to ride my bike during the weekends. So the same way I did the analysis for the working days, here I'm doing the same for the weekend."
   ]
  },
  {
   "cell_type": "code",
   "execution_count": 16,
   "metadata": {},
   "outputs": [
    {
     "data": {
      "text/plain": [
       "<matplotlib.axes._subplots.AxesSubplot at 0x7f6d0da02bb0>"
      ]
     },
     "execution_count": 16,
     "metadata": {},
     "output_type": "execute_result"
    },
    {
     "data": {
      "image/png": "[encoded data removed]",
      "text/plain": [
       "<Figure size 1080x360 with 1 Axes>"
      ]
     },
     "metadata": {
      "needs_background": "light"
     },
     "output_type": "display_data"
    }
   ],
   "source": [
    "weekend = hs.loc[5:7]\n",
    "weekend = pd.DataFrame(weekend.reset_index().groupby(\"HOUR\")[\"COUNT\"].sum())\n",
    "\n",
    "weekend.plot.bar(y=\"COUNT\", figsize=(15,5))"
   ]
  },
  {
   "cell_type": "markdown",
   "metadata": {},
   "source": [
    "### Comparing week/weekend hour by hour\n",
    "\n",
    "Fortunately the number of accidents decreases a lot during weekends, but the shape of the chart seems to be pretty similar. I'm curious to see both charts head to head to see both datasets with the same scale."
   ]
  },
  {
   "cell_type": "code",
   "execution_count": 17,
   "metadata": {},
   "outputs": [
    {
     "data": {
      "text/plain": [
       "<matplotlib.axes._subplots.AxesSubplot at 0x7f6d0d8f13d0>"
      ]
     },
     "execution_count": 17,
     "metadata": {},
     "output_type": "execute_result"
    },
    {
     "data": {
      "image/png": "[encoded data removed]",
      "text/plain": [
       "<Figure size 1080x360 with 1 Axes>"
      ]
     },
     "metadata": {
      "needs_background": "light"
     },
     "output_type": "display_data"
    }
   ],
   "source": [
    "all_week = weekend.copy()\n",
    "all_week[\"WEEK\"] = week[\"COUNT\"]\n",
    "\n",
    "all_week.\\\n",
    "    rename(columns={\"COUNT\": \"WEEKEND\"}, inplace=False).\\\n",
    "    plot.bar(figsize=(15,5))"
   ]
  },
  {
   "cell_type": "markdown",
   "metadata": {},
   "source": [
    "As you can see **there's a huge difference** (even visually) when you compare both datasets altogether **with the same scale**."
   ]
  },
  {
   "cell_type": "markdown",
   "metadata": {},
   "source": [
    "### Comparing weekend days hour by hour\n",
    "\n",
    "This time I'm going directly to compare both Saturday and Sunday datasets."
   ]
  },
  {
   "cell_type": "code",
   "execution_count": 18,
   "metadata": {},
   "outputs": [
    {
     "data": {
      "text/plain": [
       "<matplotlib.axes._subplots.AxesSubplot at 0x7f6d0d7f6940>"
      ]
     },
     "execution_count": 18,
     "metadata": {},
     "output_type": "execute_result"
    },
    {
     "data": {
      "image/png": "[encoded data removed]",
      "text/plain": [
       "<Figure size 1080x360 with 1 Axes>"
      ]
     },
     "metadata": {
      "needs_background": "light"
     },
     "output_type": "display_data"
    }
   ],
   "source": [
    "saturday = hs.loc[5]\n",
    "saturday = pd.DataFrame(saturday.reset_index().groupby(\"HOUR\")[\"COUNT\"].sum()).\\\n",
    "    rename(columns={\"COUNT\": \"SATURDAY\"})\n",
    "\n",
    "sunday = hs.loc[6]\n",
    "sunday = pd.DataFrame(sunday.reset_index().groupby(\"HOUR\")[\"COUNT\"].sum()).\\\n",
    "    rename(columns={\"COUNT\": \"SUNDAY\"})\n",
    "\n",
    "pd.merge(saturday, sunday, how=\"inner\", on=\"HOUR\").\\\n",
    "    plot.bar(figsize=(15,5))"
   ]
  },
  {
   "cell_type": "markdown",
   "metadata": {},
   "source": [
    "I can observe that **in general, there're more accidents during Satuday than Sunday**. The exception is the earlier hours on Sunday which I guess corresponds people hanging out and at sunset on Sunday when these people are coming home and some other people are heading work (e.g: bakers)."
   ]
  },
  {
   "cell_type": "markdown",
   "metadata": {},
   "source": [
    "### Blackspots: Streets with highest rate of aggregated accidents\n",
    "\n",
    "Which are the streets with the highest number of accidents overtime ?"
   ]
  },
  {
   "cell_type": "code",
   "execution_count": 19,
   "metadata": {},
   "outputs": [
    {
     "data": {
      "text/html": [
       "<div>\n",
       "<style scoped>\n",
       "    .dataframe tbody tr th:only-of-type {\n",
       "        vertical-align: middle;\n",
       "    }\n",
       "\n",
       "    .dataframe tbody tr th {\n",
       "        vertical-align: top;\n",
       "    }\n",
       "\n",
       "    .dataframe thead th {\n",
       "        text-align: right;\n",
       "    }\n",
       "</style>\n",
       "<table border=\"1\" class=\"dataframe\">\n",
       "  <thead>\n",
       "    <tr style=\"text-align: right;\">\n",
       "      <th></th>\n",
       "      <th>CALLE</th>\n",
       "      <th>DISTRITO</th>\n",
       "      <th>COUNT</th>\n",
       "    </tr>\n",
       "  </thead>\n",
       "  <tbody>\n",
       "    <tr>\n",
       "      <th>0</th>\n",
       "      <td>BRAVO MURILLO</td>\n",
       "      <td>TETUAN</td>\n",
       "      <td>145</td>\n",
       "    </tr>\n",
       "    <tr>\n",
       "      <th>1</th>\n",
       "      <td>ALCALA</td>\n",
       "      <td>SALAMANCA</td>\n",
       "      <td>123</td>\n",
       "    </tr>\n",
       "    <tr>\n",
       "      <th>2</th>\n",
       "      <td>ALCALA</td>\n",
       "      <td>CIUDAD LINEAL</td>\n",
       "      <td>123</td>\n",
       "    </tr>\n",
       "    <tr>\n",
       "      <th>3</th>\n",
       "      <td>SERRANO</td>\n",
       "      <td>SALAMANCA</td>\n",
       "      <td>80</td>\n",
       "    </tr>\n",
       "    <tr>\n",
       "      <th>4</th>\n",
       "      <td>GRAN VIA</td>\n",
       "      <td>CENTRO</td>\n",
       "      <td>72</td>\n",
       "    </tr>\n",
       "    <tr>\n",
       "      <th>5</th>\n",
       "      <td>ARTURO SORIA</td>\n",
       "      <td>CIUDAD LINEAL</td>\n",
       "      <td>72</td>\n",
       "    </tr>\n",
       "    <tr>\n",
       "      <th>6</th>\n",
       "      <td>PASEO. CASTELLANA</td>\n",
       "      <td>CHAMARTIN</td>\n",
       "      <td>60</td>\n",
       "    </tr>\n",
       "    <tr>\n",
       "      <th>7</th>\n",
       "      <td>FRANCISCO SILVELA</td>\n",
       "      <td>SALAMANCA</td>\n",
       "      <td>58</td>\n",
       "    </tr>\n",
       "    <tr>\n",
       "      <th>8</th>\n",
       "      <td>PASEO. CASTELLANA</td>\n",
       "      <td>TETUAN</td>\n",
       "      <td>57</td>\n",
       "    </tr>\n",
       "    <tr>\n",
       "      <th>9</th>\n",
       "      <td>JOAQUIN COSTA</td>\n",
       "      <td>CHAMARTIN</td>\n",
       "      <td>56</td>\n",
       "    </tr>\n",
       "  </tbody>\n",
       "</table>\n",
       "</div>"
      ],
      "text/plain": [
       "               CALLE       DISTRITO  COUNT\n",
       "0      BRAVO MURILLO         TETUAN    145\n",
       "1             ALCALA      SALAMANCA    123\n",
       "2             ALCALA  CIUDAD LINEAL    123\n",
       "3            SERRANO      SALAMANCA     80\n",
       "4           GRAN VIA         CENTRO     72\n",
       "5       ARTURO SORIA  CIUDAD LINEAL     72\n",
       "6  PASEO. CASTELLANA      CHAMARTIN     60\n",
       "7  FRANCISCO SILVELA      SALAMANCA     58\n",
       "8  PASEO. CASTELLANA         TETUAN     57\n",
       "9      JOAQUIN COSTA      CHAMARTIN     56"
      ]
     },
     "execution_count": 19,
     "metadata": {},
     "output_type": "execute_result"
    }
   ],
   "source": [
    "bs = accidents.copy()\n",
    "bs.groupby([\"CALLE\", \"DISTRITO\"]).\\\n",
    "    size().\\\n",
    "    reset_index(name='COUNT').\\\n",
    "    sort_values(\"COUNT\", ascending=False).\\\n",
    "    head(10).\\\n",
    "    reset_index().\\\n",
    "    drop(\"index\", axis=1)"
   ]
  },
  {
   "cell_type": "markdown",
   "metadata": {},
   "source": [
    "I can see a clear winner with the **BRAVO MURILLO** street, followed by **ALCALA**. Alcala makes sense to me because it's a really long street spanning different districts, so it's naturally busy all the time. But I have to admit that I wouldn't have said Bravo Murillo, not in a million years."
   ]
  },
  {
   "cell_type": "markdown",
   "metadata": {},
   "source": [
    "### Next steps\n",
    "\n",
    "I'd like to create a probability table in order to answer the question: What is the probability of having an accident at a given district at a given day of the week at a given hour ? That requires some missing numbers I have to get before going any further.\n",
    "\n",
    "## Resources\n",
    "\n",
    "- [Accidents in Madrid city](https://datos.madrid.es/portal/site/egob/menuitem.c05c1f754a33a9fbe4b2e4b284f1a5a0/?vgnextoid=7c2843010d9c3610VgnVCM2000001f4a900aRCRD&vgnextchannel=374512b9ace9f310VgnVCM100000171f5a0aRCRD&vgnextfmt=default) \n",
    "- [Vehicles in Spain in 2019 by province](http://www.dgt.es/es/seguridad-vial/estadisticas-e-indicadores/parque-vehiculos/tablas-estadisticas/2019/)"
   ]
  },
  {
   "cell_type": "code",
   "execution_count": null,
   "metadata": {},
   "outputs": [],
   "source": []
  }
 ],
 "metadata": {
  "kernelspec": {
   "display_name": "Python 3",
   "language": "python",
   "name": "python3"
  },
  "language_info": {
   "codemirror_mode": {
    "name": "ipython",
    "version": 3
   },
   "file_extension": ".py",
   "mimetype": "text/x-python",
   "name": "python",
   "nbconvert_exporter": "python",
   "pygments_lexer": "ipython3",
   "version": "3.8.5"
  }
 },
 "nbformat": 4,
 "nbformat_minor": 4
}
